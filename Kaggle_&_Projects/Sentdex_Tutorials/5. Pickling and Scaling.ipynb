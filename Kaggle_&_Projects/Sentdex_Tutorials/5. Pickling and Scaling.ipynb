{
 "cells": [
  {
   "cell_type": "markdown",
   "id": "8a6029aa",
   "metadata": {},
   "source": [
    "# What happened earlier ...\n",
    "1. The features and the label were selected\n",
    "1. The features were scaled (by standardizing them to a mean of 0 and std. deviation of 1)\n",
    "1. Some of the data was used to test the selected classification model (linear regression)\n",
    "1. After the training was done, the model was tested by applying it on the rest of the data\n",
    "1. The predicted values were saved into the dataframe and visualized"
   ]
  },
  {
   "cell_type": "markdown",
   "id": "b3f22882",
   "metadata": {},
   "source": [
    "## New\n",
    "### Pickling saves time by using the pre-trained classifier without the need to retrain it \n",
    "1. Serialization: saving the classifier once it is trained\n",
    "1. Deserialization: loads the classifier back in to use it \n",
    "\n",
    "Pickling is used for two main purposes:\n",
    "\n",
    "**Saving Trained Models**: After spending resources and time to train a machine learning model, you can save it to a file (pickling) so that you can easily load it back later. This is particularly useful for making predictions on new data without retraining the model.\n",
    "\n",
    "**Sharing Models**: Pickling allows you to share your trained model with others or deploy it to different environments, such as moving it from a development environment to a production server."
   ]
  },
  {
   "cell_type": "markdown",
   "id": "2ea12482",
   "metadata": {},
   "source": [
    "### Scaling in the context of computing resources is defined as using the power of Online web servers to train a model fast and more efficiently\n",
    "1. load data and code up to a web server like AWS\n",
    "1. rent the web server power to train your model\n",
    "1. save the trained model to a pickle file\n",
    "1. download the model and use it further"
   ]
  },
  {
   "cell_type": "code",
   "execution_count": 3,
   "id": "a4120644",
   "metadata": {},
   "outputs": [
    {
     "data": {
      "image/png": "[encoded data removed]",
      "text/plain": [
       "<Figure size 432x288 with 1 Axes>"
      ]
     },
     "metadata": {},
     "output_type": "display_data"
    }
   ],
   "source": [
    "import pandas as pd\n",
    "import quandl, math, datetime\n",
    "import numpy as np\n",
    "from sklearn import preprocessing, svm, model_selection\n",
    "from sklearn.linear_model import LinearRegression\n",
    "import matplotlib.pyplot as plt\n",
    "from matplotlib import style\n",
    "import pickle\n",
    "\n",
    "style.use('ggplot')\n",
    "\n",
    "df = quandl.get('WIKI/GOOGL')\n",
    "df = df[['Adj. Open', 'Adj. High', 'Adj. Low', 'Adj. Close', 'Adj. Volume']]\n",
    "df['HL_PCT'] = (df['Adj. High'] - df['Adj. Low']) / df['Adj. Low'] * 100\n",
    "df['PCT_change'] = (df['Adj. Close'] - df['Adj. Open']) / df['Adj. Open'] * 100\n",
    "df = df[['Adj. Close', 'HL_PCT', 'PCT_change', 'Adj. Volume']]\n",
    "\n",
    "forecast_col = 'Adj. Close'\n",
    "df.fillna(-99999, inplace=True)\n",
    "\n",
    "forecast_out = int(math.ceil(0.1*len(df)))\n",
    "#print(forecast_out)\n",
    "\n",
    "df.tail()\n",
    "\n",
    "df['label'] = df[forecast_col].shift(-forecast_out)\n",
    "df.head()\n",
    "\n",
    "X = np.array(df.drop(['label'],axis=1))\n",
    "X = preprocessing.scale(X)\n",
    "\n",
    "X_lately = X[-forecast_out:]\n",
    "X = X[:-forecast_out]\n",
    "\n",
    "df.dropna(inplace=True)\n",
    "y = np.array(df['label'])\n",
    "\n",
    "X_train, X_test, y_train, y_test = model_selection.train_test_split(X, y, test_size=0.2)\n",
    "\n",
    "clf = LinearRegression()\n",
    "clf.fit(X_train, y_train)\n",
    "\n",
    "# opens a file and writes (in binary mode, thus serialization) the classifier into the file named f\n",
    "with open('linearregression.pickle', 'wb') as f:\n",
    "    pickle.dump(clf, f)\n",
    "\n",
    "# Deserialization: the classifier is loaded back into memory to use it (rb = read binary)\n",
    "pickle_in = open('linearregression.pickle', 'rb')\n",
    "clf = pickle.load(pickle_in)\n",
    "\n",
    "accuracy = clf.score(X_test, y_test)\n",
    "\n",
    "forecast_set = clf.predict(X_lately)\n",
    "# print(forecast_set, accuracy, forecast_out)\n",
    "\n",
    "df['Forecast'] = np.nan\n",
    "\n",
    "last_date = df.iloc[-1].name\n",
    "last_unix = last_date.timestamp()\n",
    "one_day = 86400\n",
    "next_unix = last_unix + one_day\n",
    "\n",
    "for i in forecast_set:\n",
    "    next_date = datetime.datetime.fromtimestamp(next_unix)\n",
    "    next_unix += one_day\n",
    "    df.loc[next_date] = [np.nan for _ in range(len(df.columns)-1)] + [i]\n",
    "    \n",
    "df['Adj. Close'].plot()\n",
    "df['Forecast'].plot()\n",
    "plt.legend(loc=4)\n",
    "plt.xlabel('Date')\n",
    "plt.ylabel('Price')\n",
    "plt.show()"
   ]
  }
 ],
 "metadata": {
  "kernelspec": {
   "display_name": "Python 3 (ipykernel)",
   "language": "python",
   "name": "python3"
  },
  "language_info": {
   "codemirror_mode": {
    "name": "ipython",
    "version": 3
   },
   "file_extension": ".py",
   "mimetype": "text/x-python",
   "name": "python",
   "nbconvert_exporter": "python",
   "pygments_lexer": "ipython3",
   "version": "3.9.12"
  }
 },
 "nbformat": 4,
 "nbformat_minor": 5
}
