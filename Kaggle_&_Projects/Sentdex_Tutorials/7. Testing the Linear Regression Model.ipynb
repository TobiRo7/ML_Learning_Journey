{
 "cells": [
  {
   "cell_type": "markdown",
   "id": "55d5b49a",
   "metadata": {},
   "source": [
    "# What happened earlier ...\n",
    "1. The features and the label were selected\n",
    "1. The features were scaled (by standardizing them to a mean of 0 and std. deviation of 1)\n",
    "1. Some of the data was used to test the selected classification model (linear regression)\n",
    "1. After the training was done, the model was tested by applying it on the rest of the data\n",
    "1. The predicted values were saved into the dataframe and visualized\n",
    "1. Serialization: saving the classifier once it is trained to reload it when necessary without the need of retraining\n",
    "1. Linear Regression as a classification model: fitting a line to data points"
   ]
  },
  {
   "cell_type": "markdown",
   "id": "316ce81a",
   "metadata": {},
   "source": [
    "## New\n",
    "### Testing the made assumptions\n",
    "How can we test the linear regression model for correctness? </br> \n",
    "- By applying the model on different datasets and data distributions we can understand how the model responds.\n",
    "- We can change several features like the variance or the step value and look if the regression line acts as expected. \n",
    "- The slope, y-intercept and the coefficient of determination help us to identify discrepancies. \n",
    "- But the problem is to know what to expect. Visualisations and knowledge about the underlying problem can help to get some idea of the expected outcome.\n",
    "- additional testing methods: outlier testing, cross-validation, comparison with other models, statistical significance, predicitive testing"
   ]
  },
  {
   "cell_type": "code",
   "execution_count": 50,
   "id": "f03a631a",
   "metadata": {},
   "outputs": [
    {
     "name": "stdout",
     "output_type": "stream",
     "text": [
      "Slope (m): 1.82\n",
      "Y-intercept (b): 1.03\n",
      "Coefficient of Determination (r^2): 0.7783\n"
     ]
    },
    {
     "data": {
      "image/png": "[encoded data removed]",
      "text/plain": [
       "<Figure size 432x288 with 1 Axes>"
      ]
     },
     "metadata": {
      "needs_background": "light"
     },
     "output_type": "display_data"
    }
   ],
   "source": [
    "from statistics import mean\n",
    "import numpy as np\n",
    "import matplotlib.pyplot as plt\n",
    "import random\n",
    "\n",
    "#xs = np.array([1,2,3,4,5,6], dtype=np.float64)\n",
    "#ys = np.array([5,4,6,5,6,7], dtype=np.float64)\n",
    "\n",
    "# create a dataset with random data points\n",
    "def create_dataset(hm, variance, step=2, correlation=False):\n",
    "    # create a starting value and a list for the y data\n",
    "    val = 1\n",
    "    ys = []\n",
    "    \n",
    "    # iterate over the user-specified number of y data and create random numbers\n",
    "    for i in range(hm):\n",
    "        # create y values in the range of the specified variance\n",
    "        y = val + random.randrange(-variance, variance)\n",
    "        \n",
    "        # append the created y values to the list\n",
    "        ys.append(y)\n",
    "        \n",
    "        # if a correlation is specified and predefined as positive or negative, \n",
    "        # the starting value should be increased or decreased continuously\n",
    "        if correlation == 'pos':\n",
    "            val += step\n",
    "        elif correlation == 'neg':\n",
    "            val -= step\n",
    "    \n",
    "    # create a list with x data according to the number of y values \n",
    "    xs = [i for i in range(len(ys))]\n",
    "    return np.array(xs, dtype=np.float64), np.array(ys, dtype=np.float64)\n",
    "\n",
    "def best_fit_slope_and_intercept(xs,ys):\n",
    "    numerator = mean(xs) * mean(ys) - mean(xs*ys)\n",
    "    denominator = mean(xs)**2 - mean(xs**2)\n",
    "    m = numerator / denominator\n",
    "    b = mean(ys) - m*mean(xs)\n",
    "    return m, b\n",
    "\n",
    "def squared_error(ys_orig, ys_line):\n",
    "    squared_error = sum((ys_line-ys_orig)**2)\n",
    "    return squared_error\n",
    "\n",
    "def coefficient_of_determination(ys_orig, ys_line):\n",
    "    y_mean_line = [mean(ys_orig) for y in ys_orig]\n",
    "    squared_error_regr = squared_error(ys_orig, ys_line)\n",
    "    squared_error_y_mean = squared_error(ys_orig, y_mean_line)\n",
    "    r_squared = 1 - (squared_error_regr / squared_error_y_mean)\n",
    "    return r_squared\n",
    "\n",
    "# create a dataset with 20 data points, a variance of +- 10, a y-step of 2 and a positive correlation\n",
    "xs, ys = create_dataset(20, 10, 2, correlation='pos')\n",
    "\n",
    "m, b = best_fit_slope_and_intercept(xs,ys)\n",
    "\n",
    "regression_line = [ m*x + b for x in xs ]\n",
    "\n",
    "r_squared = coefficient_of_determination(ys, regression_line)\n",
    "\n",
    "print(\"Slope (m): %.2f\" % m)\n",
    "print(\"Y-intercept (b): %.2f\" % b)\n",
    "print(\"Coefficient of Determination (r^2): %.4f\" % r_squared)\n",
    "\n",
    "predict_x = 8\n",
    "predict_y = (m*predict_x) + b\n",
    "\n",
    "plt.scatter(xs, ys)\n",
    "plt.plot(xs, regression_line)\n",
    "plt.scatter(predict_x, predict_y, color='g')\n",
    "plt.show()\n"
   ]
  }
 ],
 "metadata": {
  "kernelspec": {
   "display_name": "Python 3 (ipykernel)",
   "language": "python",
   "name": "python3"
  },
  "language_info": {
   "codemirror_mode": {
    "name": "ipython",
    "version": 3
   },
   "file_extension": ".py",
   "mimetype": "text/x-python",
   "name": "python",
   "nbconvert_exporter": "python",
   "pygments_lexer": "ipython3",
   "version": "3.9.12"
  }
 },
 "nbformat": 4,
 "nbformat_minor": 5
}
