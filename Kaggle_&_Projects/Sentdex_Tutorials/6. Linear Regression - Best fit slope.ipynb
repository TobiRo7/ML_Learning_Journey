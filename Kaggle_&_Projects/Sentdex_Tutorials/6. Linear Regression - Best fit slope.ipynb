{
 "cells": [
  {
   "cell_type": "markdown",
   "id": "d9121216",
   "metadata": {},
   "source": [
    "# What happened earlier ...\n",
    "1. The features and the label were selected\n",
    "1. The features were scaled (by standardizing them to a mean of 0 and std. deviation of 1)\n",
    "1. Some of the data was used to test the selected classification model (linear regression)\n",
    "1. After the training was done, the model was tested by applying it on the rest of the data\n",
    "1. The predicted values were saved into the dataframe and visualized\n",
    "1. Serialization: saving the classifier once it is trained to reload it when necessary without the need of retraining"
   ]
  },
  {
   "cell_type": "markdown",
   "id": "e6485e04",
   "metadata": {},
   "source": [
    "## New\n",
    "### Linear Regression: Fitting a line to data - best fit line\n",
    "1. Determine the slope and the y-intercept of the line of best fit\n",
    "1. Calculate the accuracy of the line of best fit by using the coefficient of determination ($r^2$)\n",
    "\n",
    "Let's define what we need:\n",
    "$$\n",
    "m = \\frac{\\overline{x} \\cdot \\overline{y} - \\overline{xy}}\n",
    "{(\\overline{x})^2 - \\overline{x^2}}\n",
    "$$\n",
    "\n",
    "$$\n",
    "b = \\overline{y} - m \\overline{x}\n",
    "$$\n",
    "\n",
    "$$\n",
    "r^2 = 1 - \\frac{SE \\hat{y}}{SE \\overline{y}}\n",
    "$$\n",
    "\n",
    "$$\n",
    "SE \\hat{y} = \\sum{ (y_{data} - y_{line})^2 }\n",
    "$$\n",
    "\n",
    "$$\n",
    "SE \\overline{y} = \\sum{ (y_{data} - \\overline{y}_{line})^2 }\n",
    "$$\n",
    "\n",
    "Where:\n",
    "- $m$ represents the slope of the best fit line.\n",
    "- $\\overline{x}$ represents the mean x values of the data.\n",
    "- $\\overline{y}$ represents the mean y values of the data.\n",
    "- $b$ represents the y-intercept of the best fit line.\n",
    "- $r^2$ is the coefficient of determination.\n",
    "- $SE$ denotes the squared error i.e. the squared deviation of 2 y values.\n",
    "- $SE\\hat{y}$ corresponds to the squared error of the y values of the regression line and the original data.\n",
    "- $SE\\overline{y}$ corresponds to the squared error of the line with the mean y value and the original data."
   ]
  },
  {
   "cell_type": "code",
   "execution_count": 32,
   "id": "e8597ffa",
   "metadata": {},
   "outputs": [
    {
     "name": "stdout",
     "output_type": "stream",
     "text": [
      "Slope (m): 0.43\n",
      "Y-intercept (b): 4.00\n",
      "Coefficient of Determination (r^2): 0.5844\n"
     ]
    },
    {
     "data": {
      "image/png": "[encoded data removed]",
      "text/plain": [
       "<Figure size 432x288 with 1 Axes>"
      ]
     },
     "metadata": {
      "needs_background": "light"
     },
     "output_type": "display_data"
    }
   ],
   "source": [
    "from statistics import mean\n",
    "import numpy as np\n",
    "import matplotlib.pyplot as plt\n",
    "\n",
    "xs = np.array([1,2,3,4,5,6], dtype=np.float64)\n",
    "ys = np.array([5,4,6,5,6,7], dtype=np.float64)\n",
    "\n",
    "def best_fit_slope_and_intercept(xs,ys):\n",
    "    numerator = mean(xs) * mean(ys) - mean(xs*ys)\n",
    "    denominator = mean(xs)**2 - mean(xs**2)\n",
    "    m = numerator / denominator\n",
    "    b = mean(ys) - m*mean(xs)\n",
    "    return m, b\n",
    "\n",
    "# calculate the squared error of the line and the original data\n",
    "def squared_error(ys_orig, ys_line):\n",
    "    squared_error = sum((ys_line-ys_orig)**2)\n",
    "    return squared_error\n",
    "\n",
    "# calculate the COD to determine the accuracy of the line of best fit\n",
    "def coefficient_of_determination(ys_orig, ys_line):\n",
    "    # create a list with the mean y value of the origianl data (outcome: horizontal line)\n",
    "    y_mean_line = [mean(ys_orig) for y in ys_orig]\n",
    "    \n",
    "    # calculates the squared error of the regression line\n",
    "    squared_error_regr = squared_error(ys_orig, ys_line)\n",
    "    \n",
    "    # calculates the squared error of the mean y value line\n",
    "    squared_error_y_mean = squared_error(ys_orig, y_mean_line)\n",
    "    \n",
    "    # calculate the COD\n",
    "    r_squared = 1 - (squared_error_regr / squared_error_y_mean)\n",
    "    \n",
    "    return r_squared\n",
    "\n",
    "m, b = best_fit_slope_and_intercept(xs,ys)\n",
    "\n",
    "# creates a list with the y values of the regression line\n",
    "regression_line = [ m*x + b for x in xs ]\n",
    "\n",
    "r_squared = coefficient_of_determination(ys, regression_line)\n",
    "\n",
    "print(\"Slope (m): %.2f\" % m)\n",
    "print(\"Y-intercept (b): %.2f\" % b)\n",
    "print(\"Coefficient of Determination (r^2): %.4f\" % r_squared)\n",
    "\n",
    "plt.scatter(xs, ys)\n",
    "plt.plot(xs, regression_line)\n",
    "plt.show()\n"
   ]
  }
 ],
 "metadata": {
  "kernelspec": {
   "display_name": "Python 3 (ipykernel)",
   "language": "python",
   "name": "python3"
  },
  "language_info": {
   "codemirror_mode": {
    "name": "ipython",
    "version": 3
   },
   "file_extension": ".py",
   "mimetype": "text/x-python",
   "name": "python",
   "nbconvert_exporter": "python",
   "pygments_lexer": "ipython3",
   "version": "3.9.12"
  }
 },
 "nbformat": 4,
 "nbformat_minor": 5
}
