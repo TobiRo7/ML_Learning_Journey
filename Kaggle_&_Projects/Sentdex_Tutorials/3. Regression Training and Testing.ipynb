{
 "cells": [
  {
   "cell_type": "markdown",
   "id": "97162ccb",
   "metadata": {},
   "source": [
    "# What happened earlier ...\n",
    "### The features and the label were selected"
   ]
  },
  {
   "cell_type": "code",
   "execution_count": 21,
   "id": "47e569aa",
   "metadata": {},
   "outputs": [
    {
     "name": "stdout",
     "output_type": "stream",
     "text": [
      "35\n"
     ]
    }
   ],
   "source": [
    "import pandas as pd\n",
    "import quandl, math\n",
    "import numpy as np\n",
    "from sklearn import preprocessing, svm, model_selection\n",
    "from sklearn.linear_model import LinearRegression\n",
    "\n",
    "df = quandl.get('WIKI/GOOGL')\n",
    "df = df[['Adj. Open', 'Adj. High', 'Adj. Low', 'Adj. Close', 'Adj. Volume']]\n",
    "df['HL_PCT'] = (df['Adj. High'] - df['Adj. Low']) / df['Adj. Low'] * 100\n",
    "df['PCT_change'] = (df['Adj. Close'] - df['Adj. Open']) / df['Adj. Open'] * 100\n",
    "df = df[['Adj. Close', 'HL_PCT', 'PCT_change', 'Adj. Volume']]\n",
    "\n",
    "forecast_col = 'Adj. Close'\n",
    "df.fillna(-99999, inplace=True)\n",
    "\n",
    "forecast_out = int(math.ceil(0.01*len(df)))\n",
    "print(forecast_out)\n",
    "\n",
    "df['label'] = df[forecast_col].shift(-forecast_out)\n",
    "df.dropna(inplace=True)"
   ]
  },
  {
   "cell_type": "markdown",
   "id": "7becba94",
   "metadata": {},
   "source": [
    "### We need to scale the features by standardizing them \n",
    "\n",
    "Scaling the features in machine learning means adjusting the values of the different features in your dataset to a similar range or scale. This is done to ensure that all features contribute equally to the learning process, and no single feature dominates the others just because of its larger value.\n",
    "\n",
    "One common scaling method is called \"feature scaling\" or \"standardization.\" It involves transforming the data in such a way that each feature has a mean of 0 and a standard deviation of 1. In other words, it shifts the values to have a similar average and a comparable spread.\n",
    "\n",
    "### Then some of the data will be used to test the selected classification model\n",
    "\n",
    "### After the training is done, the model can be tested with the rest of the data\n",
    "For that, accuracy or confidence can be calculated"
   ]
  },
  {
   "cell_type": "code",
   "execution_count": 39,
   "id": "07477737",
   "metadata": {
    "scrolled": true
   },
   "outputs": [
    {
     "name": "stdout",
     "output_type": "stream",
     "text": [
      "0.9776170287357746\n"
     ]
    }
   ],
   "source": [
    "# create an array that only includes the features\n",
    "X = np.array(df.drop(['label'],axis=1))\n",
    "\n",
    "# label array\n",
    "y = np.array(df['label'])\n",
    "\n",
    "# scale the feature array to ensure features are on a similar scale\n",
    "X = preprocessing.scale(X)\n",
    "\n",
    "# create a training & testing dataset using 80 % for training and 20 % for testing\n",
    "X_train, X_test, y_train, y_test = model_selection.train_test_split(X, y, test_size=0.2)\n",
    "\n",
    "# choose a classifier/classification model\n",
    "clf = LinearRegression() # For linear regression\n",
    "#clf = svm.SVR(kernel='poly')  # For support vector regression with a polynomial kernel\n",
    "\n",
    "# fit the training data to the selected classifier\n",
    "clf.fit(X_train, y_train)\n",
    "\n",
    "# determine the accuracy/coefficient of determination (R-squared) of the model\n",
    "accuracy = clf.score(X_test, y_test)\n",
    "print(accuracy)"
   ]
  },
  {
   "cell_type": "code",
   "execution_count": 25,
   "id": "fb98c2b9",
   "metadata": {},
   "outputs": [],
   "source": [
    "LinearRegression?"
   ]
  }
 ],
 "metadata": {
  "kernelspec": {
   "display_name": "Python 3 (ipykernel)",
   "language": "python",
   "name": "python3"
  },
  "language_info": {
   "codemirror_mode": {
    "name": "ipython",
    "version": 3
   },
   "file_extension": ".py",
   "mimetype": "text/x-python",
   "name": "python",
   "nbconvert_exporter": "python",
   "pygments_lexer": "ipython3",
   "version": "3.9.12"
  }
 },
 "nbformat": 4,
 "nbformat_minor": 5
}
