{
 "cells": [
  {
   "cell_type": "markdown",
   "id": "68474496",
   "metadata": {},
   "source": [
    "# K-nearest Neighbors Algorithm\n",
    "1. Find a dataset and a feature vector that needs to be classified\n",
    "1. Calculate the euclidean distance between the vector and the data points of the dataset\n",
    "1. Select the k data points that have the smallest distance to the new vector\n",
    "1. Count which group has the most frequent appearance among the k nearest neighbors (Voting)\n",
    "1. The new vector will be classified to the group with the most nearest neighbors "
   ]
  },
  {
   "cell_type": "code",
   "execution_count": 31,
   "id": "4bed5ae5",
   "metadata": {},
   "outputs": [
    {
     "data": {
      "image/png": "[encoded data removed]",
      "text/plain": [
       "<Figure size 640x480 with 1 Axes>"
      ]
     },
     "metadata": {},
     "output_type": "display_data"
    },
    {
     "name": "stdout",
     "output_type": "stream",
     "text": [
      "Votes for each group: Counter({'r': 2, 'k': 1})\n",
      "Predicted group: r\n"
     ]
    }
   ],
   "source": [
    "import numpy as np\n",
    "from math import sqrt\n",
    "import matplotlib.pyplot as plt\n",
    "import warnings\n",
    "from matplotlib import style\n",
    "from collections import Counter\n",
    "style.use('fivethirtyeight')\n",
    "\n",
    "# Sample dataset with two groups 'k' and 'r', each containing some feature vectors\n",
    "dataset = {'k': [[1,2], [2,3], [3,1]], 'r': [[6,5], [7,7], [8,6]] }\n",
    "\n",
    "# New feature vector that needs to be classified\n",
    "new_features = [4,5]\n",
    "\n",
    "# list comprehension: expression for item in iterable (opitionally: condition)\n",
    "[ plt.scatter(ii[0], ii[1], s=100, color=i) for i in dataset for ii in dataset[i] ]\n",
    "\n",
    "plt.scatter(new_features[0], new_features[1], s=100)\n",
    "plt.show()\n",
    "\n",
    "def k_nearest_neighbors(data, predict, k=3):\n",
    "    if len(data) >= k:\n",
    "        warnings.warn('K is set to a value less than total voting groups')\n",
    "    \n",
    "    distances = []\n",
    "    for group in data:\n",
    "        for features in data[group]:\n",
    "            # calculate the euclidean distance between the feature points and the predicted point\n",
    "            #euclidean_distance = np.sqrt( np.sum( np.array(features) - np.array(predict) ) **2 ) # correct but slower\n",
    "            euclidean_distance = np.linalg.norm( np.array(features) - np.array(predict) ) # faster\n",
    "            \n",
    "            # Store the Euclidean distance along with the group name in a list\n",
    "            distances.append([euclidean_distance, group])\n",
    "    \n",
    "    # Sort the distances and choose the group with the k smallest distances\n",
    "    votes = [ i[1] for i in sorted(distances)[:k] ]\n",
    "    \n",
    "    # Count the occurrences of each group and choose the most common one\n",
    "    #vote_result = Counter(votes).most_common(1)[0][0]\n",
    "    most_common_group, num_votes = Counter(votes).most_common(1)[0]\n",
    "    \n",
    "    print(\"Votes for each group:\", Counter(votes))\n",
    "    #print(\"Most common group:\", most_common_group)\n",
    "    \n",
    "    return most_common_group\n",
    "\n",
    "result = k_nearest_neighbors(dataset, new_features, k=3)\n",
    "print(\"Predicted group:\", result)"
   ]
  },
  {
   "cell_type": "markdown",
   "id": "e5c1746a",
   "metadata": {},
   "source": [
    "## List comprehension\n",
    "new_list = [expression for item in iterable if condition]"
   ]
  },
  {
   "cell_type": "code",
   "execution_count": 1,
   "id": "51bb1d05",
   "metadata": {},
   "outputs": [
    {
     "name": "stdout",
     "output_type": "stream",
     "text": [
      "[1, 4, 9, 16, 25]\n"
     ]
    }
   ],
   "source": [
    "squares = [x ** 2 for x in range(1, 6)]\n",
    "print(squares)"
   ]
  },
  {
   "cell_type": "code",
   "execution_count": 2,
   "id": "9e499a10",
   "metadata": {},
   "outputs": [
    {
     "name": "stdout",
     "output_type": "stream",
     "text": [
      "[1, 3, 5, 7, 9]\n"
     ]
    }
   ],
   "source": [
    "odd_numbers = [x for x in range(1, 11) if x % 2 != 0]\n",
    "print(odd_numbers)"
   ]
  },
  {
   "cell_type": "code",
   "execution_count": 3,
   "id": "640071c0",
   "metadata": {},
   "outputs": [
    {
     "name": "stdout",
     "output_type": "stream",
     "text": [
      "[(1, 10), (1, 20), (1, 30), (2, 10), (2, 20), (2, 30), (3, 10), (3, 20), (3, 30)]\n"
     ]
    }
   ],
   "source": [
    "list1 = [1, 2, 3]\n",
    "list2 = [10, 20, 30]\n",
    "pairs = [(x, y) for x in list1 for y in list2]\n",
    "print(pairs)"
   ]
  },
  {
   "cell_type": "code",
   "execution_count": 4,
   "id": "a310e8ff",
   "metadata": {},
   "outputs": [
    {
     "name": "stdout",
     "output_type": "stream",
     "text": [
      "[(1, 10), (2, 20), (3, 30)]\n"
     ]
    }
   ],
   "source": [
    "list1 = [1, 2, 3]\n",
    "list2 = [10, 20, 30]\n",
    "pairs = [(x, y) for x,y in zip(list1, list2)]\n",
    "print(pairs)"
   ]
  }
 ],
 "metadata": {
  "kernelspec": {
   "display_name": "Python 3 (ipykernel)",
   "language": "python",
   "name": "python3"
  },
  "language_info": {
   "codemirror_mode": {
    "name": "ipython",
    "version": 3
   },
   "file_extension": ".py",
   "mimetype": "text/x-python",
   "name": "python",
   "nbconvert_exporter": "python",
   "pygments_lexer": "ipython3",
   "version": "3.10.9"
  }
 },
 "nbformat": 4,
 "nbformat_minor": 5
}
