{
 "cells": [
  {
   "cell_type": "markdown",
   "id": "63d579d8",
   "metadata": {},
   "source": [
    "# Use of Github\n",
    "- Github is a cloud based Code Hosting Platform where you can upload and download code\n",
    "- You can save files for yourself or others if you want to share what you created\n",
    "- For example, Github can be used for creating a blog or sharing open source projects\n",
    "- Github offers version control to track changes in your files"
   ]
  },
  {
   "cell_type": "markdown",
   "id": "3cb9f534",
   "metadata": {},
   "source": [
    "### General introduction\n",
    "    # get help about a command\n",
    "    git help <command>\n",
    "    \n",
    "    # specify your name and email for identification purpose\n",
    "    git config --global user.name \"TobiRo7\"\n",
    "    git config --global user.email \"tobiasroth21@gmail.com\"\n",
    "    "
   ]
  },
  {
   "cell_type": "markdown",
   "id": "9ba5cf05",
   "metadata": {},
   "source": [
    "## How to download a repository from Github, edit a file and reupload the changes to Github"
   ]
  },
  {
   "cell_type": "markdown",
   "id": "3e582373",
   "metadata": {},
   "source": [
    "#### Terminal:\n",
    "    # go to home directory\n",
    "    cd ~\n",
    "    \n",
    "    # go to desired directory\n",
    "    cd OneDrive\\Python\\...\n",
    "    \n",
    "    # take a look what is in that directory (optional)\n",
    "    ls \n",
    "    \n",
    "    # download repository from GitHub\n",
    "    git clone [my_SSH_key] \n",
    "    my_SSH_key = git@github.com:TobiRo7/Python.git\n",
    "    \n",
    "    or with https\n",
    "    git clone https://github.com/TobiRo7/My_learning_repo.git\n",
    "        \n",
    "    # change directory into the folder\n",
    "    cd [directory_name]\n",
    "    \n",
    "#### Jupyter Notebook:\n",
    "    open the desired file or a new file and write your code\n",
    "    \n",
    "    save the file and close it \n",
    "    \n",
    "    it is now saved at your local machine\n",
    "\n",
    "#### Terminal:\n",
    "    # check the status of the files in the repository\n",
    "    # you see that there are changed and not uploaded files\n",
    "    git status\n",
    "    \n",
    "    # tell git to track/collect all changes and files\n",
    "    git add .\n",
    "    \n",
    "    # commit/save all changes and files\n",
    "    git commit -m \"added message.ipynb\" -m \"some optional description\"\n",
    "    \n",
    "    (\n",
    "    # add and commit in one step\n",
    "    git commit -a\n",
    "    )\n",
    "    \n",
    "    # push/upload all changes and files to the GitHub repository\n",
    "    # main = branch name on GitHub\n",
    "    git push origin main "
   ]
  }
 ],
 "metadata": {
  "kernelspec": {
   "display_name": "Python 3 (ipykernel)",
   "language": "python",
   "name": "python3"
  },
  "language_info": {
   "codemirror_mode": {
    "name": "ipython",
    "version": 3
   },
   "file_extension": ".py",
   "mimetype": "text/x-python",
   "name": "python",
   "nbconvert_exporter": "python",
   "pygments_lexer": "ipython3",
   "version": "3.11.4"
  }
 },
 "nbformat": 4,
 "nbformat_minor": 5
}
