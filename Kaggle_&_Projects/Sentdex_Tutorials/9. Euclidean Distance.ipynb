{
 "cells": [
  {
   "cell_type": "markdown",
   "id": "2ed886a6",
   "metadata": {},
   "source": [
    "## Euclidean distance\n",
    "The Euclidean distance is the length of the line between two points in the Euclidean space (n-dimensional space)."
   ]
  },
  {
   "cell_type": "markdown",
   "id": "93de4f0f",
   "metadata": {},
   "source": [
    "$$ \\sqrt{ \\sum_{i=1}^n (q_i - p_i)^2 } $$\n",
    "where:\n",
    "- $q_i$ and $p_i$ are Euclidean vectors, starting from the origin of the space (initial point)\n",
    "- $n$ is the n-space"
   ]
  },
  {
   "cell_type": "code",
   "execution_count": 5,
   "id": "7aef29bb",
   "metadata": {},
   "outputs": [
    {
     "name": "stdout",
     "output_type": "stream",
     "text": [
      "2.23606797749979\n"
     ]
    }
   ],
   "source": [
    "from math import sqrt\n",
    "\n",
    "plot1 = [1,3]\n",
    "plot2 = [2,5]\n",
    "\n",
    "eucl_dist = sqrt( (plot1[0]-plot2[0])**2 + (plot1[1]-plot2[1])**2 )\n",
    "print(eucl_dist)"
   ]
  },
  {
   "cell_type": "code",
   "execution_count": 29,
   "id": "fe99776b",
   "metadata": {},
   "outputs": [
    {
     "name": "stdout",
     "output_type": "stream",
     "text": [
      "2.23606797749979\n"
     ]
    }
   ],
   "source": [
    "from math import sqrt\n",
    "\n",
    "sum_plots = [ (x - y)**2 for x,y in zip(plot1, plot2) ] \n",
    "\n",
    "eucl_dist = sqrt( sum(sum_plots) )\n",
    "\n",
    "print(eucl_dist)"
   ]
  }
 ],
 "metadata": {
  "kernelspec": {
   "display_name": "Python 3 (ipykernel)",
   "language": "python",
   "name": "python3"
  },
  "language_info": {
   "codemirror_mode": {
    "name": "ipython",
    "version": 3
   },
   "file_extension": ".py",
   "mimetype": "text/x-python",
   "name": "python",
   "nbconvert_exporter": "python",
   "pygments_lexer": "ipython3",
   "version": "3.11.4"
  }
 },
 "nbformat": 4,
 "nbformat_minor": 5
}
